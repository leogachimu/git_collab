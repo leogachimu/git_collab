
colors = []
team_index = 0
color_index = 0

while team_index < len(soccer_match):
    while color_index < len(soccer_match[team_index]['colors']):
        colors.append(soccer_match[team_index]['colors'][color_index])
        color_index += 1
    color_index = 0
    team_index += 1
    
print("The jersey colors for all the teams are: ", colors)

players = []
team_index = 0
player_index = 0

#iterating over the list and appending using for loop
for soccer_team in soccer_match:
    for player in soccer_match[team_index]['players']:
        players.append(soccer_match[team_index]['players'][player_index])
        player_index += 1
    player_index = 0
    team_index += 1

print(players)
